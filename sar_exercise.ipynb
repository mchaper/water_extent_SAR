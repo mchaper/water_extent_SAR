{
 "cells": [
  {
   "attachments": {},
   "cell_type": "markdown",
   "metadata": {},
   "source": [
    "# Check water extent S1 images"
   ]
  },
  {
   "attachments": {},
   "cell_type": "markdown",
   "metadata": {},
   "source": [
    "##### This code read S1 images, clips them to the AOI, applies a speckle filter and then create a water mask using a threshold based on visual inspection"
   ]
  },
  {
   "attachments": {},
   "cell_type": "markdown",
   "metadata": {},
   "source": [
    "### Author: Miguel Chapela Rivas"
   ]
  },
  {
   "attachments": {},
   "cell_type": "markdown",
   "metadata": {},
   "source": [
    "### Library imports"
   ]
  },
  {
   "cell_type": "code",
   "execution_count": null,
   "metadata": {},
   "outputs": [],
   "source": [
    "import shapely\n",
    "import shapely.wkt\n",
    "from function_for_exercie import clip_image_to_aoi,get_water_mask,speckle_filter\n",
    "import matplotlib.pyplot as plt\n",
    "import rasterio"
   ]
  },
  {
   "attachments": {},
   "cell_type": "markdown",
   "metadata": {},
   "source": [
    "### Input parameters"
   ]
  },
  {
   "cell_type": "code",
   "execution_count": null,
   "metadata": {},
   "outputs": [],
   "source": [
    "aoi_str = \"POLYGON((-5.626262643661826 39.89116380127936,-5.313838937607138 39.89116380127936,-5.313838937607138 39.75404898715227,-5.626262643661826 39.75404898715227,-5.626262643661826 39.89116380127936))\"\n",
    "aoi = shapely.wkt.loads(aoi_str)\n",
    "\n",
    "input_image_VV_path_0301 = 'input\\S1B_IW_GRDH_1SDV_20210301T181835_20210301T181900_025825_03146D_F42B.SAFE\\measurement\\s1b-iw-grd-vv-20210301t181835-20210301t181900-025825-03146d-001.tiff'\n",
    "input_image_VV_path_0816 = 'input\\S1B_IW_GRDH_1SDV_20210816T181843_20210816T181908_028275_035FA5_9E28.SAFE\\measurement\\s1b-iw-grd-vv-20210816t181843-20210816t181908-028275-035fa5-001.tiff'\n",
    "\n",
    "input_image_VH_path_0301 = 'input\\S1B_IW_GRDH_1SDV_20210301T181835_20210301T181900_025825_03146D_F42B.SAFE\\measurement\\s1b-iw-grd-vh-20210301t181835-20210301t181900-025825-03146d-002.tiff'\n",
    "input_image_VH_path_0816 = 'input\\S1B_IW_GRDH_1SDV_20210816T181843_20210816T181908_028275_035FA5_9E28.SAFE\\measurement\\s1b-iw-grd-vh-20210816t181843-20210816t181908-028275-035fa5-002.tiff'\n"
   ]
  },
  {
   "attachments": {},
   "cell_type": "markdown",
   "metadata": {},
   "source": [
    "## Clip Sentinel-1 images to aoi"
   ]
  },
  {
   "cell_type": "code",
   "execution_count": null,
   "metadata": {},
   "outputs": [],
   "source": [
    "clip_input_image_VV_path_0301 =  clip_image_to_aoi(input_image_VV_path_0301,aoi)\n",
    "clip_input_image_VV_path_0816 =  clip_image_to_aoi(input_image_VV_path_0816,aoi)\n",
    "\n",
    "clip_input_image_VH_path_0301 =  clip_image_to_aoi(input_image_VH_path_0301,aoi)\n",
    "clip_input_image_VH_path_0816 =  clip_image_to_aoi(input_image_VH_path_0816,aoi)"
   ]
  },
  {
   "attachments": {},
   "cell_type": "markdown",
   "metadata": {},
   "source": [
    "### Plots clip image"
   ]
  },
  {
   "cell_type": "code",
   "execution_count": null,
   "metadata": {},
   "outputs": [],
   "source": [
    "# Specify the paths to the Sentinel-1 image files\n",
    "image_files = {\n",
    "    'VV polirazation 1st March':clip_input_image_VV_path_0301,\n",
    "    'VV polirazation 16th August':clip_input_image_VV_path_0816,\n",
    "    'VH polirazation 1st March':clip_input_image_VH_path_0301,\n",
    "    'VH polirazation 16th August': clip_input_image_VH_path_0816\n",
    "}\n",
    "\n",
    "# Create a subplot with a 2 by 2 layout\n",
    "fig, axs = plt.subplots(2, 2, figsize=(16, 10))\n",
    "\n",
    "# Loop through the image files and plot them in the subplots\n",
    "for i, (title, image_file) in enumerate(image_files.items()):\n",
    "    # Open the image using rasterio\n",
    "    with rasterio.open(image_file) as src:\n",
    "        # Read the image as a numpy array\n",
    "        image_array = src.read(1)\n",
    "\n",
    "    # Plot the image in the corresponding subplot\n",
    "    ax = axs[i // 2, i % 2]\n",
    "    ax.imshow(image_array, cmap='gray')\n",
    "    ax.set_title(f'Clip image {title}')\n",
    "    ax.axis('off')\n",
    "\n",
    "# Adjust the spacing between subplots\n",
    "plt.tight_layout()\n",
    "\n",
    "# Display the plot\n",
    "plt.show()"
   ]
  },
  {
   "attachments": {},
   "cell_type": "markdown",
   "metadata": {},
   "source": [
    "## Speckle filtering of the clipped images"
   ]
  },
  {
   "cell_type": "code",
   "execution_count": null,
   "metadata": {},
   "outputs": [],
   "source": [
    "filter_input_image_VV_path_0301 =  speckle_filter(clip_input_image_VV_path_0301)\n",
    "filter_input_image_VV_path_0816 =  speckle_filter(clip_input_image_VV_path_0816)\n",
    "\n",
    "filter_input_image_VH_path_0301 =  speckle_filter(clip_input_image_VH_path_0301)\n",
    "filter_input_image_VH_path_0816 =  speckle_filter(clip_input_image_VH_path_0816)"
   ]
  },
  {
   "attachments": {},
   "cell_type": "markdown",
   "metadata": {},
   "source": [
    "#### Plots speckle filter"
   ]
  },
  {
   "cell_type": "code",
   "execution_count": null,
   "metadata": {},
   "outputs": [],
   "source": [
    "\n",
    "# Specify the paths to the Sentinel-1 image files\n",
    "image_files = {\n",
    "    'VV polirazation 1st March':filter_input_image_VV_path_0301,\n",
    "    'VV polirazation 16th August':filter_input_image_VV_path_0816,\n",
    "    'VH polirazation 1st March':filter_input_image_VH_path_0301,\n",
    "    'VH polirazation 16th August': filter_input_image_VH_path_0816\n",
    "}\n",
    "\n",
    "# Create a subplot with a 2 by 2 layout\n",
    "fig, axs = plt.subplots(2, 2, figsize=(15, 10))\n",
    "\n",
    "# Loop through the image files and plot them in the subplots\n",
    "for i, (title, image_file) in enumerate(image_files.items()):\n",
    "    # Open the image using rasterio\n",
    "    with rasterio.open(image_file) as src:\n",
    "        # Read the image as a numpy array\n",
    "        image_array = src.read(1)\n",
    "\n",
    "    # Plot the image in the corresponding subplot\n",
    "    ax = axs[i // 2, i % 2]\n",
    "    ax.imshow(image_array, cmap='gray')\n",
    "    ax.set_title(f'Filter clip image {title}')\n",
    "    ax.axis('off')\n",
    "\n",
    "# Adjust the spacing between subplots\n",
    "plt.tight_layout()\n",
    "\n",
    "# Display the plot\n",
    "plt.show()"
   ]
  },
  {
   "attachments": {},
   "cell_type": "markdown",
   "metadata": {},
   "source": [
    "## Get water mask"
   ]
  },
  {
   "cell_type": "code",
   "execution_count": null,
   "metadata": {},
   "outputs": [],
   "source": [
    "water_threshold_vv = 17 # threshold obtained from visual inspection in QGIS\n",
    "\n",
    "bitmask_VV_path_0301,area_VV_km2_0301 = get_water_mask(filter_input_image_VV_path_0301, water_threshold_vv)\n",
    "bitmask_VV_path_0816,area_VV_km2_0816 = get_water_mask(filter_input_image_VV_path_0816, water_threshold_vv)\n",
    "\n",
    "print('For the VV polarization')\n",
    "print('The water area found on 03/01/2021 {area} km2'.format(area = round(area_VV_km2_0301,2)))\n",
    "print('The water area found on 16/08/2021 {area} km2'.format(area = round(area_VV_km2_0816,2)))\n",
    "\n",
    "difference_VV = area_VV_km2_0301 - area_VV_km2_0816\n",
    "print('Difference between dates is {difference} km2.'.format(difference = round(difference_VV,2)))\n",
    "\n",
    "percentage_difference = (difference_VV / area_VV_km2_0301 ) * 100\n",
    "print('Percentage difference between dates is {percentage_difference}.'.format(percentage_difference = round(percentage_difference,2)))\n"
   ]
  },
  {
   "attachments": {},
   "cell_type": "markdown",
   "metadata": {},
   "source": [
    "#### Plots VV water mask"
   ]
  },
  {
   "cell_type": "code",
   "execution_count": null,
   "metadata": {},
   "outputs": [],
   "source": [
    "# Specify the paths to the Sentinel-1 image files\n",
    "image_files = {\n",
    "    'VV polirazation 1st March':bitmask_VV_path_0301,\n",
    "    'VV polirazation 16th August':bitmask_VV_path_0816\n",
    "}\n",
    "# Create a subplot with a 2 by 2 layout\n",
    "fig, axs = plt.subplots(1, 2, figsize=(16, 10))\n",
    "\n",
    "# Loop through the image files and plot them in the subplots\n",
    "for i, (title, image_file) in enumerate(image_files.items()):\n",
    "    # Open the image using rasterio\n",
    "    with rasterio.open(image_file) as src:\n",
    "        # Read the image as a numpy array\n",
    "        image_array = src.read(1)\n",
    "\n",
    "    # Plot the image in the corresponding subplot\n",
    "    ax = axs[i]\n",
    "    ax.imshow(image_array, cmap='gray')\n",
    "    ax.set_title(f'Water mask {title}')\n",
    "    ax.axis('off')\n",
    "\n",
    "# Adjust the spacing between subplots\n",
    "plt.tight_layout()\n",
    "\n",
    "# Display the plot\n",
    "plt.show()"
   ]
  },
  {
   "attachments": {},
   "cell_type": "markdown",
   "metadata": {},
   "source": [
    "### VH polarization"
   ]
  },
  {
   "cell_type": "code",
   "execution_count": null,
   "metadata": {},
   "outputs": [],
   "source": [
    "water_threshold_vh = 14 # threshold obtained from visual inspection in QGIS\n",
    "\n",
    "bitmask_VH_path_0301,area_VH_km2_0301 = get_water_mask(filter_input_image_VH_path_0301, water_threshold_vh)\n",
    "bitmask_VH_path_0816,area_VH_km2_0816 = get_water_mask(filter_input_image_VH_path_0816, water_threshold_vh)\n",
    "print('For the VH polarization')\n",
    "print('The water area found on 03/01/2021 {area} km2'.format(area = round(area_VH_km2_0301,2)))\n",
    "print('The water area found on 16/08/2021 {area} km2'.format(area = round(area_VH_km2_0816,2)))\n",
    "\n",
    "difference_VV = area_VV_km2_0301 - area_VV_km2_0816\n",
    "print('Difference between dates is {difference} km2.'.format(difference = round(difference_VV,2)))\n",
    "\n",
    "percentage_difference = (difference_VV / area_VV_km2_0301 ) * 100\n",
    "print('Percentage difference between dates is {percentage_difference}.'.format(percentage_difference = round(percentage_difference,2)))"
   ]
  },
  {
   "attachments": {},
   "cell_type": "markdown",
   "metadata": {},
   "source": [
    "#### Plot VH water mask"
   ]
  },
  {
   "cell_type": "code",
   "execution_count": null,
   "metadata": {},
   "outputs": [],
   "source": [
    "# Specify the paths to the Sentinel-1 image files\n",
    "image_files = {\n",
    "    'VH polirazation 1st March':bitmask_VH_path_0301,\n",
    "    'VH polirazation 16th August':bitmask_VH_path_0816\n",
    "}\n",
    "# Create a subplot with a 2 by 2 layout\n",
    "fig, axs = plt.subplots(1, 2, figsize=(16, 10))\n",
    "\n",
    "# Loop through the image files and plot them in the subplots\n",
    "for i, (title, image_file) in enumerate(image_files.items()):\n",
    "    # Open the image using rasterio\n",
    "    with rasterio.open(image_file) as src:\n",
    "        # Read the image as a numpy array\n",
    "        image_array = src.read(1)\n",
    "\n",
    "    # Plot the image in the corresponding subplot\n",
    "    ax = axs[i]\n",
    "    ax.imshow(image_array, cmap='gray')\n",
    "    ax.set_title(f'Water mask {title}')\n",
    "    ax.axis('off')\n",
    "\n",
    "# Adjust the spacing between subplots\n",
    "plt.tight_layout()\n",
    "\n",
    "# Display the plot\n",
    "plt.show()"
   ]
  }
 ],
 "metadata": {
  "kernelspec": {
   "display_name": "e-shape-impl",
   "language": "python",
   "name": "python3"
  },
  "language_info": {
   "codemirror_mode": {
    "name": "ipython",
    "version": 3
   },
   "file_extension": ".py",
   "mimetype": "text/x-python",
   "name": "python",
   "nbconvert_exporter": "python",
   "pygments_lexer": "ipython3",
   "version": "3.9.13"
  },
  "orig_nbformat": 4
 },
 "nbformat": 4,
 "nbformat_minor": 2
}
